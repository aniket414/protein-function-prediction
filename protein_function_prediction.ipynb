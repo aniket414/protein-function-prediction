{
 "cells": [
  {
   "cell_type": "markdown",
   "metadata": {
    "id": "J-284QvpV7rY",
    "papermill": {
     "duration": 0.008875,
     "end_time": "2023-05-09T08:30:09.052999",
     "exception": false,
     "start_time": "2023-05-09T08:30:09.044124",
     "status": "completed"
    },
    "tags": []
   },
   "source": [
    "# Protein function Prediction\n",
    "\n",
    "This notebook trains a DNN model using TensorFlow on the CAFA 5 protein function dataset.\n",
    "\n",
    "The objective of the model is to predict the function (i.e., **GO term ID**) of a set of proteins based on their amino acid sequences and other data.\n",
    "\n",
    "\n",
    "**Note** : This notebook runs without any GPU however we have trained our model on T4 GPU. This is because enabling GPUs leaves less RAM memory on the instance and the output prediction step needs a substantial amount of memory. While training with CPU it will take around 2 minutes while on GPU it would take around 30 seconds."
   ]
  },
  {
   "attachments": {},
   "cell_type": "markdown",
   "metadata": {
    "id": "Vv_FgND2V7rZ",
    "papermill": {
     "duration": 0.009266,
     "end_time": "2023-05-09T08:30:09.071132",
     "exception": false,
     "start_time": "2023-05-09T08:30:09.061866",
     "status": "completed"
    },
    "tags": []
   },
   "source": [
    "## About the Data\n",
    "\n",
    "### Protein Sequence\n",
    "\n",
    "Each protein is composed of dozens or hundreds of amino acids that are linked sequentially. Each amino acid in the sequence may be represented by a one-letter or three-letter code. Thus the sequence of a protein is often notated as a string of letters.\n",
    "\n",
    "The `train_sequences.fasta` contains the sequences for proteins with annotations (labelled proteins)."
   ]
  },
  {
   "cell_type": "markdown",
   "metadata": {
    "id": "9R9XIwVCV7rZ",
    "papermill": {
     "duration": 0.008355,
     "end_time": "2023-05-09T08:30:09.088630",
     "exception": false,
     "start_time": "2023-05-09T08:30:09.080275",
     "status": "completed"
    },
    "tags": []
   },
   "source": [
    "# Gene Ontology\n",
    "\n",
    "We can define the functional properties of a proteins using Gene Ontology (GO). Gene Ontology (GO) describes our understanding of the biological domain with respect to three aspects:\n",
    "1. Molecular Function (MF)\n",
    "2. Biological Process (BP)\n",
    "3. Cellular Component (CC)\n",
    "\n",
    "Read more about Gene Ontology [here](http://geneontology.org/docs/ontology-documentation).\n",
    "\n",
    "File `train_terms.tsv` contains the list of annotated terms (ground truth) for the proteins in `train_sequences.fasta`. In `train_terms.tsv` the first column indicates the protein's UniProt accession ID (unique protein id), the second is the `GO Term ID`, and the third indicates in which ontology the term appears."
   ]
  },
  {
   "cell_type": "markdown",
   "metadata": {
    "id": "Dv8stTe1V7rZ"
   },
   "source": [
    "# Labels of the dataset\n",
    "\n",
    "The objective of our model is to predict the terms (functions) of a protein sequence. One protein sequence can have many functions and can thus be classified into any number of terms. Each term is uniquely identified by a `GO Term ID`. Thus our model has to predict all the `GO Term ID`s for a protein sequence."
   ]
  },
  {
   "cell_type": "markdown",
   "metadata": {
    "id": "qkDJdXsJV7rZ",
    "papermill": {
     "duration": 0.008548,
     "end_time": "2023-05-09T08:30:09.122603",
     "exception": false,
     "start_time": "2023-05-09T08:30:09.114055",
     "status": "completed"
    },
    "tags": []
   },
   "source": [
    "# Protein embeddings for train and test data\n",
    "\n",
    "To train our model we cannot use the alphabetical protein sequences in`train_sequences.fasta` directly. They have to be converted into a vector format. We will use embeddings of the protein sequences to train the model. You can think of protein embeddings to be similar to word embeddings used to train NLP models.\n",
    "\n",
    "Protein embeddings are a machine-friendly method of capturing the protein's structural and functional characteristics, mainly through its sequence. One approach is to train a custom ML model to learn the protein embeddings of the protein sequences in the dataset being used in this notebook. Since this dataset represents proteins using amino-acid sequences which is a standard approach, we can use any publicly available pre-trained protein embedding models to generate the embeddings.\n",
    "\n",
    "To make data preparation easier, we have used the precalculated protein embeddings created by [Sergei Fironov](https://www.kaggle.com/sergeifironov) using the Rost Lab's T5 protein language model in this notebook. The precalculated protein embeddings can be found [here](https://www.kaggle.com/datasets/sergeifironov/t5embeds)."
   ]
  },
  {
   "cell_type": "markdown",
   "metadata": {
    "id": "dC1iboYdV7rZ",
    "papermill": {
     "duration": 0.009086,
     "end_time": "2023-05-09T08:30:09.140473",
     "exception": false,
     "start_time": "2023-05-09T08:30:09.131387",
     "status": "completed"
    },
    "tags": []
   },
   "source": [
    "# Import the Required Libraries"
   ]
  },
  {
   "cell_type": "code",
   "execution_count": 1,
   "metadata": {
    "id": "DhIFM9-TV7rZ",
    "papermill": {
     "duration": 9.85331,
     "end_time": "2023-05-09T08:30:19.002985",
     "exception": false,
     "start_time": "2023-05-09T08:30:09.149675",
     "status": "completed"
    },
    "tags": []
   },
   "outputs": [
    {
     "name": "stderr",
     "output_type": "stream",
     "text": [
      "2023-09-17 01:35:13.825393: W tensorflow/stream_executor/platform/default/dso_loader.cc:64] Could not load dynamic library 'libcudart.so.11.0'; dlerror: libcudart.so.11.0: cannot open shared object file: No such file or directory; LD_LIBRARY_PATH: /opt/sw/spack/apps/linux-rhel8-x86_64_v2/gcc-10.3.0/openmpi-4.1.2-4a/lib:/opt/sw/spack/apps/linux-rhel8-x86_64_v2/gcc-10.3.0/python-3.9.9-jh/lib:/opt/sw/spack/apps/linux-rhel8-x86_64_v2/gcc-10.3.0/tcl-8.6.11-d4/lib:/opt/sw/spack/apps/linux-rhel8-x86_64_v2/gcc-10.3.0/sqlite-3.37.1-6s/lib:/opt/sw/spack/apps/linux-rhel8-x86_64_v2/gcc-10.3.0/zlib-1.2.11-2y/lib:/opt/sw/spack/apps/linux-rhel8-x86_64_v2/gcc-9.3.0/gcc-10.3.0-ya/lib64:/opt/sw/spack/apps/linux-rhel8-x86_64_v2/gcc-9.3.0/gcc-10.3.0-ya/lib\n",
      "2023-09-17 01:35:13.825433: I tensorflow/stream_executor/cuda/cudart_stub.cc:29] Ignore above cudart dlerror if you do not have a GPU set up on your machine.\n"
     ]
    }
   ],
   "source": [
    "import tensorflow as tf\n",
    "import pandas as pd\n",
    "import numpy as np\n",
    "import seaborn as sns\n",
    "import matplotlib.pyplot as plt\n",
    "import progressbar"
   ]
  },
  {
   "cell_type": "code",
   "execution_count": 2,
   "metadata": {
    "colab": {
     "base_uri": "https://localhost:8080/"
    },
    "id": "h_dWr_gnV7ra",
    "outputId": "7387400e-4db5-42d4-8993-30cdce3289af",
    "papermill": {
     "duration": 0.018272,
     "end_time": "2023-05-09T08:30:19.030432",
     "exception": false,
     "start_time": "2023-05-09T08:30:19.012160",
     "status": "completed"
    },
    "tags": []
   },
   "outputs": [
    {
     "name": "stdout",
     "output_type": "stream",
     "text": [
      "TensorFlow v2.8.0\n"
     ]
    }
   ],
   "source": [
    "print(\"TensorFlow v\" + tf.__version__)"
   ]
  },
  {
   "cell_type": "markdown",
   "metadata": {
    "id": "GcHpRH_yV7ra",
    "papermill": {
     "duration": 0.008429,
     "end_time": "2023-05-09T08:30:19.047756",
     "exception": false,
     "start_time": "2023-05-09T08:30:19.039327",
     "status": "completed"
    },
    "tags": []
   },
   "source": [
    "# Load the Dataset"
   ]
  },
  {
   "cell_type": "markdown",
   "metadata": {
    "id": "yjzzhJHZV7ra",
    "papermill": {
     "duration": 0.008388,
     "end_time": "2023-05-09T08:30:19.065367",
     "exception": false,
     "start_time": "2023-05-09T08:30:19.056979",
     "status": "completed"
    },
    "tags": []
   },
   "source": [
    "First we will load the file `train_terms.tsv` which contains the list of annotated terms (functions) for the proteins. We will extract the labels aka `GO term ID` and create a label dataframe for the protein embeddings."
   ]
  },
  {
   "cell_type": "code",
   "execution_count": 3,
   "metadata": {
    "colab": {
     "base_uri": "https://localhost:8080/"
    },
    "id": "L-I0t2M8V7ra",
    "outputId": "0e37e794-f658-40de-dcb9-74180fb51923",
    "papermill": {
     "duration": 3.69155,
     "end_time": "2023-05-09T08:30:22.766144",
     "exception": false,
     "start_time": "2023-05-09T08:30:19.074594",
     "status": "completed"
    },
    "tags": []
   },
   "outputs": [
    {
     "name": "stdout",
     "output_type": "stream",
     "text": [
      "(5363863, 3)\n"
     ]
    }
   ],
   "source": [
    "train_terms = pd.read_csv(\"data/Train/train_terms.tsv\", sep=\"\\t\")\n",
    "print(train_terms.shape)"
   ]
  },
  {
   "cell_type": "markdown",
   "metadata": {
    "id": "VnYg83jLV7ra",
    "papermill": {
     "duration": 0.008358,
     "end_time": "2023-05-09T08:30:22.783293",
     "exception": false,
     "start_time": "2023-05-09T08:30:22.774935",
     "status": "completed"
    },
    "tags": []
   },
   "source": [
    "`train_terms` dataframe is composed of 3 columns and 5363863 entries. We can see all 3 dimensions of our dataset by printing out the first 5 entries using the following code:"
   ]
  },
  {
   "cell_type": "code",
   "execution_count": 4,
   "metadata": {
    "colab": {
     "base_uri": "https://localhost:8080/",
     "height": 204
    },
    "id": "bRYbqLPsV7ra",
    "outputId": "8ed66f6b-bc10-43d5-cb2a-230c07099d51",
    "papermill": {
     "duration": 0.038607,
     "end_time": "2023-05-09T08:30:22.830633",
     "exception": false,
     "start_time": "2023-05-09T08:30:22.792026",
     "status": "completed"
    },
    "tags": []
   },
   "outputs": [
    {
     "data": {
      "text/html": [
       "<div>\n",
       "<style scoped>\n",
       "    .dataframe tbody tr th:only-of-type {\n",
       "        vertical-align: middle;\n",
       "    }\n",
       "\n",
       "    .dataframe tbody tr th {\n",
       "        vertical-align: top;\n",
       "    }\n",
       "\n",
       "    .dataframe thead th {\n",
       "        text-align: right;\n",
       "    }\n",
       "</style>\n",
       "<table border=\"1\" class=\"dataframe\">\n",
       "  <thead>\n",
       "    <tr style=\"text-align: right;\">\n",
       "      <th></th>\n",
       "      <th>EntryID</th>\n",
       "      <th>term</th>\n",
       "      <th>aspect</th>\n",
       "    </tr>\n",
       "  </thead>\n",
       "  <tbody>\n",
       "    <tr>\n",
       "      <th>0</th>\n",
       "      <td>A0A009IHW8</td>\n",
       "      <td>GO:0008152</td>\n",
       "      <td>BPO</td>\n",
       "    </tr>\n",
       "    <tr>\n",
       "      <th>1</th>\n",
       "      <td>A0A009IHW8</td>\n",
       "      <td>GO:0034655</td>\n",
       "      <td>BPO</td>\n",
       "    </tr>\n",
       "    <tr>\n",
       "      <th>2</th>\n",
       "      <td>A0A009IHW8</td>\n",
       "      <td>GO:0072523</td>\n",
       "      <td>BPO</td>\n",
       "    </tr>\n",
       "    <tr>\n",
       "      <th>3</th>\n",
       "      <td>A0A009IHW8</td>\n",
       "      <td>GO:0044270</td>\n",
       "      <td>BPO</td>\n",
       "    </tr>\n",
       "    <tr>\n",
       "      <th>4</th>\n",
       "      <td>A0A009IHW8</td>\n",
       "      <td>GO:0006753</td>\n",
       "      <td>BPO</td>\n",
       "    </tr>\n",
       "  </tbody>\n",
       "</table>\n",
       "</div>"
      ],
      "text/plain": [
       "      EntryID        term aspect\n",
       "0  A0A009IHW8  GO:0008152    BPO\n",
       "1  A0A009IHW8  GO:0034655    BPO\n",
       "2  A0A009IHW8  GO:0072523    BPO\n",
       "3  A0A009IHW8  GO:0044270    BPO\n",
       "4  A0A009IHW8  GO:0006753    BPO"
      ]
     },
     "execution_count": 4,
     "metadata": {},
     "output_type": "execute_result"
    }
   ],
   "source": [
    "train_terms.head()"
   ]
  },
  {
   "cell_type": "markdown",
   "metadata": {
    "id": "6u2K9m9sV7ra",
    "papermill": {
     "duration": 0.008764,
     "end_time": "2023-05-09T08:30:22.848867",
     "exception": false,
     "start_time": "2023-05-09T08:30:22.840103",
     "status": "completed"
    },
    "tags": []
   },
   "source": [
    "If we look at the first entry of `train_terms.tsv`, we can see that it contains protein id (`A0A009IHW8`), the GO term (`GO:0008152`) and its aspect (`BPO`)."
   ]
  },
  {
   "cell_type": "markdown",
   "metadata": {
    "id": "-ms23UhNV7ra"
   },
   "source": [
    "# Loading the protein embeddings\n",
    "\n",
    "\n",
    "We will now load the pre calculated protein embeddings created by [Sergei Fironov](https://www.kaggle.com/sergeifironov) using the Rost Lab's T5 protein language model.\n",
    "\n",
    "The protein embeddings to be used for training are recorded in `train_embeds.npy` and the corresponding protein ids are available in `train_ids.npy`."
   ]
  },
  {
   "cell_type": "markdown",
   "metadata": {
    "id": "x5-BMdlMV7ra",
    "papermill": {
     "duration": 0.009256,
     "end_time": "2023-05-09T08:30:22.867158",
     "exception": false,
     "start_time": "2023-05-09T08:30:22.857902",
     "status": "completed"
    },
    "tags": []
   },
   "source": [
    "First, we will load the protein ids of the protein embeddings in the train dataset contained in `train_ids.npy` into a numpy array."
   ]
  },
  {
   "cell_type": "code",
   "execution_count": 5,
   "metadata": {
    "colab": {
     "base_uri": "https://localhost:8080/"
    },
    "id": "ljzAwrmnV7ra",
    "outputId": "987fcab2-405f-4f65-9fd4-9f527aa4b071",
    "papermill": {
     "duration": 0.067806,
     "end_time": "2023-05-09T08:30:22.944355",
     "exception": false,
     "start_time": "2023-05-09T08:30:22.876549",
     "status": "completed"
    },
    "tags": []
   },
   "outputs": [
    {
     "name": "stdout",
     "output_type": "stream",
     "text": [
      "(142246,)\n"
     ]
    }
   ],
   "source": [
    "train_protein_ids = np.load('t5_embeds/train_ids.npy')\n",
    "print(train_protein_ids.shape)"
   ]
  },
  {
   "cell_type": "markdown",
   "metadata": {
    "id": "aA-NnnraV7ra",
    "papermill": {
     "duration": 0.009498,
     "end_time": "2023-05-09T08:30:22.963291",
     "exception": false,
     "start_time": "2023-05-09T08:30:22.953793",
     "status": "completed"
    },
    "tags": []
   },
   "source": [
    "The `train_protein_ids` array consists of 142246 protein_ids. Let us print out the first 5 entries using the following code:"
   ]
  },
  {
   "cell_type": "code",
   "execution_count": 6,
   "metadata": {
    "colab": {
     "base_uri": "https://localhost:8080/"
    },
    "id": "aGQc17OeV7ra",
    "outputId": "2ff7b7ae-ed25-456e-8a73-e4005d6bd580",
    "papermill": {
     "duration": 0.019907,
     "end_time": "2023-05-09T08:30:22.992625",
     "exception": false,
     "start_time": "2023-05-09T08:30:22.972718",
     "status": "completed"
    },
    "tags": []
   },
   "outputs": [
    {
     "data": {
      "text/plain": [
       "array(['P20536', 'O73864', 'O95231', 'A0A0B4J1F4', 'P54366'], dtype='<U10')"
      ]
     },
     "execution_count": 6,
     "metadata": {},
     "output_type": "execute_result"
    }
   ],
   "source": [
    "train_protein_ids[:5]"
   ]
  },
  {
   "cell_type": "markdown",
   "metadata": {
    "id": "pPl6_4xfV7ra",
    "papermill": {
     "duration": 0.009375,
     "end_time": "2023-05-09T08:30:23.011402",
     "exception": false,
     "start_time": "2023-05-09T08:30:23.002027",
     "status": "completed"
    },
    "tags": []
   },
   "source": [
    "Each protein embedding is a vector of length 1024. We create the resulting dataframe such that there are 1024 columns to represent the values in each of the 1024 places in the vector."
   ]
  },
  {
   "cell_type": "code",
   "execution_count": 7,
   "metadata": {
    "colab": {
     "base_uri": "https://localhost:8080/"
    },
    "id": "o6I9GVELV7ra",
    "outputId": "797b8298-0f09-499b-ede3-4f6e346dbb84",
    "papermill": {
     "duration": 9.719957,
     "end_time": "2023-05-09T08:30:32.741095",
     "exception": false,
     "start_time": "2023-05-09T08:30:23.021138",
     "status": "completed"
    },
    "tags": []
   },
   "outputs": [
    {
     "name": "stdout",
     "output_type": "stream",
     "text": [
      "(142246, 1024)\n"
     ]
    }
   ],
   "source": [
    "train_embeddings = np.load('t5_embeds/train_embeds.npy')\n",
    "\n",
    "column_num = train_embeddings.shape[1]\n",
    "train_df = pd.DataFrame(train_embeddings, columns = [\"Column_\" + str(i) for i in range(1, column_num+1)])\n",
    "print(train_df.shape)"
   ]
  },
  {
   "cell_type": "markdown",
   "metadata": {
    "id": "Q0Zb06UjV7ra",
    "papermill": {
     "duration": 0.00918,
     "end_time": "2023-05-09T08:30:32.760375",
     "exception": false,
     "start_time": "2023-05-09T08:30:32.751195",
     "status": "completed"
    },
    "tags": []
   },
   "source": [
    "The `train_df` dataframe which contains the embeddings is composed of 1024 columns and 142246 entries. We can see all 1024 dimensions (results will be truncated since column length is too long)  of our dataset by printing out the first 5 entries using the following code:"
   ]
  },
  {
   "cell_type": "code",
   "execution_count": 8,
   "metadata": {
    "colab": {
     "base_uri": "https://localhost:8080/",
     "height": 253
    },
    "id": "vCO5RrydV7ra",
    "outputId": "7dbb723a-d45d-4653-f866-fa6dbb05cd77",
    "papermill": {
     "duration": 0.036828,
     "end_time": "2023-05-09T08:30:32.807222",
     "exception": false,
     "start_time": "2023-05-09T08:30:32.770394",
     "status": "completed"
    },
    "tags": []
   },
   "outputs": [
    {
     "data": {
      "text/html": [
       "<div>\n",
       "<style scoped>\n",
       "    .dataframe tbody tr th:only-of-type {\n",
       "        vertical-align: middle;\n",
       "    }\n",
       "\n",
       "    .dataframe tbody tr th {\n",
       "        vertical-align: top;\n",
       "    }\n",
       "\n",
       "    .dataframe thead th {\n",
       "        text-align: right;\n",
       "    }\n",
       "</style>\n",
       "<table border=\"1\" class=\"dataframe\">\n",
       "  <thead>\n",
       "    <tr style=\"text-align: right;\">\n",
       "      <th></th>\n",
       "      <th>Column_1</th>\n",
       "      <th>Column_2</th>\n",
       "      <th>Column_3</th>\n",
       "      <th>Column_4</th>\n",
       "      <th>Column_5</th>\n",
       "      <th>Column_6</th>\n",
       "      <th>Column_7</th>\n",
       "      <th>Column_8</th>\n",
       "      <th>Column_9</th>\n",
       "      <th>Column_10</th>\n",
       "      <th>...</th>\n",
       "      <th>Column_1015</th>\n",
       "      <th>Column_1016</th>\n",
       "      <th>Column_1017</th>\n",
       "      <th>Column_1018</th>\n",
       "      <th>Column_1019</th>\n",
       "      <th>Column_1020</th>\n",
       "      <th>Column_1021</th>\n",
       "      <th>Column_1022</th>\n",
       "      <th>Column_1023</th>\n",
       "      <th>Column_1024</th>\n",
       "    </tr>\n",
       "  </thead>\n",
       "  <tbody>\n",
       "    <tr>\n",
       "      <th>0</th>\n",
       "      <td>0.049488</td>\n",
       "      <td>-0.032935</td>\n",
       "      <td>0.032473</td>\n",
       "      <td>-0.033723</td>\n",
       "      <td>-0.059505</td>\n",
       "      <td>0.075936</td>\n",
       "      <td>-0.045860</td>\n",
       "      <td>-0.104476</td>\n",
       "      <td>-0.072112</td>\n",
       "      <td>0.038806</td>\n",
       "      <td>...</td>\n",
       "      <td>-0.046516</td>\n",
       "      <td>-0.028773</td>\n",
       "      <td>-0.021878</td>\n",
       "      <td>-0.097883</td>\n",
       "      <td>0.056475</td>\n",
       "      <td>0.080950</td>\n",
       "      <td>-0.020938</td>\n",
       "      <td>-0.043532</td>\n",
       "      <td>0.096463</td>\n",
       "      <td>0.073070</td>\n",
       "    </tr>\n",
       "    <tr>\n",
       "      <th>1</th>\n",
       "      <td>-0.044616</td>\n",
       "      <td>0.064925</td>\n",
       "      <td>-0.080263</td>\n",
       "      <td>-0.075338</td>\n",
       "      <td>-0.004731</td>\n",
       "      <td>0.025408</td>\n",
       "      <td>-0.024685</td>\n",
       "      <td>-0.016568</td>\n",
       "      <td>-0.038980</td>\n",
       "      <td>-0.033870</td>\n",
       "      <td>...</td>\n",
       "      <td>-0.040173</td>\n",
       "      <td>0.003925</td>\n",
       "      <td>0.006130</td>\n",
       "      <td>0.007362</td>\n",
       "      <td>-0.066848</td>\n",
       "      <td>0.106882</td>\n",
       "      <td>-0.030134</td>\n",
       "      <td>0.026724</td>\n",
       "      <td>0.027879</td>\n",
       "      <td>-0.048430</td>\n",
       "    </tr>\n",
       "    <tr>\n",
       "      <th>2</th>\n",
       "      <td>-0.020128</td>\n",
       "      <td>-0.049779</td>\n",
       "      <td>0.007894</td>\n",
       "      <td>-0.000829</td>\n",
       "      <td>-0.047737</td>\n",
       "      <td>0.086453</td>\n",
       "      <td>-0.038107</td>\n",
       "      <td>-0.036379</td>\n",
       "      <td>0.029611</td>\n",
       "      <td>0.045029</td>\n",
       "      <td>...</td>\n",
       "      <td>0.029388</td>\n",
       "      <td>0.008456</td>\n",
       "      <td>0.000697</td>\n",
       "      <td>0.013502</td>\n",
       "      <td>-0.005968</td>\n",
       "      <td>-0.011571</td>\n",
       "      <td>0.005704</td>\n",
       "      <td>-0.036103</td>\n",
       "      <td>0.007693</td>\n",
       "      <td>0.106234</td>\n",
       "    </tr>\n",
       "    <tr>\n",
       "      <th>3</th>\n",
       "      <td>-0.007515</td>\n",
       "      <td>0.060628</td>\n",
       "      <td>0.004045</td>\n",
       "      <td>0.027056</td>\n",
       "      <td>-0.021542</td>\n",
       "      <td>0.010380</td>\n",
       "      <td>-0.025064</td>\n",
       "      <td>-0.055834</td>\n",
       "      <td>0.068238</td>\n",
       "      <td>0.027764</td>\n",
       "      <td>...</td>\n",
       "      <td>0.020792</td>\n",
       "      <td>0.023307</td>\n",
       "      <td>0.009009</td>\n",
       "      <td>0.018211</td>\n",
       "      <td>0.020820</td>\n",
       "      <td>-0.031738</td>\n",
       "      <td>0.013279</td>\n",
       "      <td>-0.018357</td>\n",
       "      <td>0.008087</td>\n",
       "      <td>0.010917</td>\n",
       "    </tr>\n",
       "    <tr>\n",
       "      <th>4</th>\n",
       "      <td>0.013468</td>\n",
       "      <td>0.041516</td>\n",
       "      <td>0.018435</td>\n",
       "      <td>-0.035595</td>\n",
       "      <td>0.008770</td>\n",
       "      <td>0.018699</td>\n",
       "      <td>-0.015452</td>\n",
       "      <td>-0.038092</td>\n",
       "      <td>-0.038326</td>\n",
       "      <td>-0.012299</td>\n",
       "      <td>...</td>\n",
       "      <td>-0.044742</td>\n",
       "      <td>-0.025432</td>\n",
       "      <td>-0.060886</td>\n",
       "      <td>-0.026915</td>\n",
       "      <td>0.026342</td>\n",
       "      <td>0.017237</td>\n",
       "      <td>0.014731</td>\n",
       "      <td>-0.016861</td>\n",
       "      <td>-0.016272</td>\n",
       "      <td>0.037054</td>\n",
       "    </tr>\n",
       "  </tbody>\n",
       "</table>\n",
       "<p>5 rows × 1024 columns</p>\n",
       "</div>"
      ],
      "text/plain": [
       "   Column_1  Column_2  Column_3  Column_4  Column_5  Column_6  Column_7  \\\n",
       "0  0.049488 -0.032935  0.032473 -0.033723 -0.059505  0.075936 -0.045860   \n",
       "1 -0.044616  0.064925 -0.080263 -0.075338 -0.004731  0.025408 -0.024685   \n",
       "2 -0.020128 -0.049779  0.007894 -0.000829 -0.047737  0.086453 -0.038107   \n",
       "3 -0.007515  0.060628  0.004045  0.027056 -0.021542  0.010380 -0.025064   \n",
       "4  0.013468  0.041516  0.018435 -0.035595  0.008770  0.018699 -0.015452   \n",
       "\n",
       "   Column_8  Column_9  Column_10  ...  Column_1015  Column_1016  Column_1017  \\\n",
       "0 -0.104476 -0.072112   0.038806  ...    -0.046516    -0.028773    -0.021878   \n",
       "1 -0.016568 -0.038980  -0.033870  ...    -0.040173     0.003925     0.006130   \n",
       "2 -0.036379  0.029611   0.045029  ...     0.029388     0.008456     0.000697   \n",
       "3 -0.055834  0.068238   0.027764  ...     0.020792     0.023307     0.009009   \n",
       "4 -0.038092 -0.038326  -0.012299  ...    -0.044742    -0.025432    -0.060886   \n",
       "\n",
       "   Column_1018  Column_1019  Column_1020  Column_1021  Column_1022  \\\n",
       "0    -0.097883     0.056475     0.080950    -0.020938    -0.043532   \n",
       "1     0.007362    -0.066848     0.106882    -0.030134     0.026724   \n",
       "2     0.013502    -0.005968    -0.011571     0.005704    -0.036103   \n",
       "3     0.018211     0.020820    -0.031738     0.013279    -0.018357   \n",
       "4    -0.026915     0.026342     0.017237     0.014731    -0.016861   \n",
       "\n",
       "   Column_1023  Column_1024  \n",
       "0     0.096463     0.073070  \n",
       "1     0.027879    -0.048430  \n",
       "2     0.007693     0.106234  \n",
       "3     0.008087     0.010917  \n",
       "4    -0.016272     0.037054  \n",
       "\n",
       "[5 rows x 1024 columns]"
      ]
     },
     "execution_count": 8,
     "metadata": {},
     "output_type": "execute_result"
    }
   ],
   "source": [
    "train_df.head()"
   ]
  },
  {
   "cell_type": "markdown",
   "metadata": {
    "id": "Yc8EmYr3V7ra",
    "papermill": {
     "duration": 0.009208,
     "end_time": "2023-05-09T08:30:32.825978",
     "exception": false,
     "start_time": "2023-05-09T08:30:32.816770",
     "status": "completed"
    },
    "tags": []
   },
   "source": [
    "# Preprocess"
   ]
  },
  {
   "cell_type": "markdown",
   "metadata": {
    "id": "isyFEfO4V7ra",
    "papermill": {
     "duration": 0.009674,
     "end_time": "2023-05-09T08:30:32.845065",
     "exception": false,
     "start_time": "2023-05-09T08:30:32.835391",
     "status": "completed"
    },
    "tags": []
   },
   "source": [
    "First we will extract all the needed labels(`GO term ID`) from `train_terms.tsv` file. There are more than 40,000 labels. In order to simplify our model, we will choose the most frequent 1500 `GO term ID`'s as labels."
   ]
  },
  {
   "cell_type": "markdown",
   "metadata": {
    "id": "SJ7vyaXqV7ra",
    "papermill": {
     "duration": 0.009238,
     "end_time": "2023-05-09T08:30:32.863785",
     "exception": false,
     "start_time": "2023-05-09T08:30:32.854547",
     "status": "completed"
    },
    "tags": []
   },
   "source": [
    "Let's plot the most frequent 100 `GO Term ID`s in `train_terms.tsv`."
   ]
  },
  {
   "cell_type": "code",
   "execution_count": 9,
   "metadata": {
    "colab": {
     "base_uri": "https://localhost:8080/",
     "height": 607
    },
    "id": "OeXuF0C_V7rb",
    "outputId": "6aa58def-fd53-4725-9b90-a0297248e488",
    "papermill": {
     "duration": 1.592489,
     "end_time": "2023-05-09T08:30:34.465912",
     "exception": false,
     "start_time": "2023-05-09T08:30:32.873423",
     "status": "completed"
    },
    "tags": []
   },
   "outputs": [
    {
     "data": {
      "image/png": "[encoded data removed]",
      "text/plain": [
       "<Figure size 864x432 with 1 Axes>"
      ]
     },
     "metadata": {
      "needs_background": "light"
     },
     "output_type": "display_data"
    }
   ],
   "source": [
    "# Select first 1500 values for plotting\n",
    "plot_df = train_terms['term'].value_counts().iloc[:100]\n",
    "\n",
    "figure, axis = plt.subplots(1, 1, figsize=(12, 6))\n",
    "\n",
    "bp = sns.barplot(ax=axis, x=np.array(plot_df.index), y=plot_df.values)\n",
    "bp.set_xticklabels(bp.get_xticklabels(), rotation=90, size = 6)\n",
    "axis.set_title('Top 100 frequent GO term IDs')\n",
    "bp.set_xlabel(\"GO term IDs\", fontsize = 12)\n",
    "bp.set_ylabel(\"Count\", fontsize = 12)\n",
    "plt.show()"
   ]
  },
  {
   "cell_type": "markdown",
   "metadata": {
    "id": "cxX2bnU0V7rb",
    "papermill": {
     "duration": 0.010458,
     "end_time": "2023-05-09T08:30:34.487707",
     "exception": false,
     "start_time": "2023-05-09T08:30:34.477249",
     "status": "completed"
    },
    "tags": []
   },
   "source": [
    "We will now save the first 1500 most frequent GO term Ids into a list."
   ]
  },
  {
   "cell_type": "code",
   "execution_count": 10,
   "metadata": {
    "id": "MiR2odtiV7rb",
    "papermill": {
     "duration": 0.523976,
     "end_time": "2023-05-09T08:30:35.021974",
     "exception": false,
     "start_time": "2023-05-09T08:30:34.497998",
     "status": "completed"
    },
    "tags": []
   },
   "outputs": [],
   "source": [
    "num_of_labels = 1500\n",
    "\n",
    "labels = train_terms['term'].value_counts().index[:num_of_labels].tolist()"
   ]
  },
  {
   "cell_type": "code",
   "execution_count": 11,
   "metadata": {
    "id": "_5zcakcXV7rb",
    "papermill": {
     "duration": 0.668657,
     "end_time": "2023-05-09T08:30:35.720953",
     "exception": false,
     "start_time": "2023-05-09T08:30:35.052296",
     "status": "completed"
    },
    "tags": []
   },
   "outputs": [],
   "source": [
    "train_terms_updated = train_terms.loc[train_terms['term'].isin(labels)]"
   ]
  },
  {
   "cell_type": "markdown",
   "metadata": {
    "id": "Ra0cQ4YbV7rb",
    "papermill": {
     "duration": 0.009797,
     "end_time": "2023-05-09T08:30:35.741328",
     "exception": false,
     "start_time": "2023-05-09T08:30:35.731531",
     "status": "completed"
    },
    "tags": []
   },
   "source": [
    "Let us plot the aspect values in the new **train_terms_updated** dataframe using a pie chart."
   ]
  },
  {
   "cell_type": "code",
   "execution_count": 12,
   "metadata": {
    "colab": {
     "base_uri": "https://localhost:8080/",
     "height": 406
    },
    "id": "rtPeDCA-V7rb",
    "outputId": "d855d8de-c92e-44e3-9fa0-8e39a55d2845",
    "papermill": {
     "duration": 0.419624,
     "end_time": "2023-05-09T08:30:36.171193",
     "exception": false,
     "start_time": "2023-05-09T08:30:35.751569",
     "status": "completed"
    },
    "tags": []
   },
   "outputs": [
    {
     "data": {
      "image/png": "[encoded data removed]",
      "text/plain": [
       "<Figure size 432x288 with 1 Axes>"
      ]
     },
     "metadata": {},
     "output_type": "display_data"
    }
   ],
   "source": [
    "pie_df = train_terms_updated['aspect'].value_counts()\n",
    "palette_color = sns.color_palette('bright')\n",
    "plt.pie(pie_df.values, labels=np.array(pie_df.index), colors=palette_color, autopct='%.0f%%')\n",
    "plt.show()"
   ]
  },
  {
   "cell_type": "markdown",
   "metadata": {
    "id": "6uhAmfMKV7rb",
    "papermill": {
     "duration": 0.016642,
     "end_time": "2023-05-09T08:30:36.204943",
     "exception": false,
     "start_time": "2023-05-09T08:30:36.188301",
     "status": "completed"
    },
    "tags": []
   },
   "source": [
    "As you can see, majority of the `GO term Id`s have BPO(Biological Process Ontology) as their aspect."
   ]
  },
  {
   "cell_type": "markdown",
   "metadata": {
    "id": "Adl8bpvvV7rb"
   },
   "source": [
    "Since this is a multi label classification problem, in the labels array we will denote the presence or absence of each Go Term Id for a protein id using a 1 or 0.\n",
    "First, we will create a numpy array `train_labels` of required size for the labels. To update the `train_labels` array with the appropriate values, we will loop through the label list."
   ]
  },
  {
   "cell_type": "code",
   "execution_count": 14,
   "metadata": {
    "colab": {
     "base_uri": "https://localhost:8080/"
    },
    "id": "MOyFZoZrV7rb",
    "outputId": "da418008-60da-466b-d455-35cab8d4a467",
    "papermill": {
     "duration": 495.729474,
     "end_time": "2023-05-09T08:38:51.951408",
     "exception": false,
     "start_time": "2023-05-09T08:30:36.221934",
     "status": "completed"
    },
    "tags": []
   },
   "outputs": [
    {
     "name": "stderr",
     "output_type": "stream",
     "text": [
      "[========================================================================] 100%\r"
     ]
    },
    {
     "name": "stdout",
     "output_type": "stream",
     "text": [
      "(142246, 1500)\n"
     ]
    },
    {
     "name": "stderr",
     "output_type": "stream",
     "text": [
      "\n"
     ]
    }
   ],
   "source": [
    "bar = progressbar.ProgressBar(maxval=num_of_labels, \\\n",
    "    widgets=[progressbar.Bar('=', '[', ']'), ' ', progressbar.Percentage()])\n",
    "\n",
    "# Create an empty dataframe of required size for storing the labels,\n",
    "# i.e, train_size x num_of_labels (142246 x 1500)\n",
    "train_size = train_protein_ids.shape[0] # len(X)\n",
    "train_labels = np.zeros((train_size ,num_of_labels))\n",
    "\n",
    "series_train_protein_ids = pd.Series(train_protein_ids)\n",
    "bar.start()\n",
    "for i in range(num_of_labels):\n",
    "    n_train_terms = train_terms_updated[train_terms_updated['term'] ==  labels[i]]\n",
    "\n",
    "    label_related_proteins = n_train_terms['EntryID'].unique()\n",
    "\n",
    "    train_labels[:,i] =  series_train_protein_ids.isin(label_related_proteins).astype(float)\n",
    "\n",
    "    bar.update(i+1)\n",
    "\n",
    "bar.finish()\n",
    "\n",
    "labels_df = pd.DataFrame(data = train_labels, columns = labels)\n",
    "print(labels_df.shape)"
   ]
  },
  {
   "cell_type": "markdown",
   "metadata": {
    "id": "dxIYtnmZV7rb",
    "papermill": {
     "duration": 0.010097,
     "end_time": "2023-05-09T08:38:51.971947",
     "exception": false,
     "start_time": "2023-05-09T08:38:51.961850",
     "status": "completed"
    },
    "tags": []
   },
   "source": [
    "The final labels dataframe `label_df` is composed of 1500 columns and 142246 entries. We can see all 1500 dimensions(results will be truncated since the number of columns is big) of our dataset by printing out the first 5 entries using the following code:"
   ]
  },
  {
   "cell_type": "code",
   "execution_count": 15,
   "metadata": {
    "colab": {
     "base_uri": "https://localhost:8080/",
     "height": 253
    },
    "id": "EVvkbupnV7rb",
    "outputId": "5fb877da-afb2-47aa-dbab-bc66183e2118",
    "papermill": {
     "duration": 0.048128,
     "end_time": "2023-05-09T08:38:52.031041",
     "exception": false,
     "start_time": "2023-05-09T08:38:51.982913",
     "status": "completed"
    },
    "tags": []
   },
   "outputs": [
    {
     "data": {
      "text/html": [
       "<div>\n",
       "<style scoped>\n",
       "    .dataframe tbody tr th:only-of-type {\n",
       "        vertical-align: middle;\n",
       "    }\n",
       "\n",
       "    .dataframe tbody tr th {\n",
       "        vertical-align: top;\n",
       "    }\n",
       "\n",
       "    .dataframe thead th {\n",
       "        text-align: right;\n",
       "    }\n",
       "</style>\n",
       "<table border=\"1\" class=\"dataframe\">\n",
       "  <thead>\n",
       "    <tr style=\"text-align: right;\">\n",
       "      <th></th>\n",
       "      <th>GO:0005575</th>\n",
       "      <th>GO:0008150</th>\n",
       "      <th>GO:0110165</th>\n",
       "      <th>GO:0003674</th>\n",
       "      <th>GO:0005622</th>\n",
       "      <th>GO:0009987</th>\n",
       "      <th>GO:0043226</th>\n",
       "      <th>GO:0043229</th>\n",
       "      <th>GO:0005488</th>\n",
       "      <th>GO:0043227</th>\n",
       "      <th>...</th>\n",
       "      <th>GO:0034250</th>\n",
       "      <th>GO:0140053</th>\n",
       "      <th>GO:0031345</th>\n",
       "      <th>GO:0098802</th>\n",
       "      <th>GO:0045861</th>\n",
       "      <th>GO:0051783</th>\n",
       "      <th>GO:0031674</th>\n",
       "      <th>GO:0001818</th>\n",
       "      <th>GO:0006874</th>\n",
       "      <th>GO:0016887</th>\n",
       "    </tr>\n",
       "  </thead>\n",
       "  <tbody>\n",
       "    <tr>\n",
       "      <th>0</th>\n",
       "      <td>0.0</td>\n",
       "      <td>1.0</td>\n",
       "      <td>0.0</td>\n",
       "      <td>1.0</td>\n",
       "      <td>0.0</td>\n",
       "      <td>1.0</td>\n",
       "      <td>0.0</td>\n",
       "      <td>0.0</td>\n",
       "      <td>1.0</td>\n",
       "      <td>0.0</td>\n",
       "      <td>...</td>\n",
       "      <td>0.0</td>\n",
       "      <td>0.0</td>\n",
       "      <td>0.0</td>\n",
       "      <td>0.0</td>\n",
       "      <td>0.0</td>\n",
       "      <td>0.0</td>\n",
       "      <td>0.0</td>\n",
       "      <td>0.0</td>\n",
       "      <td>0.0</td>\n",
       "      <td>0.0</td>\n",
       "    </tr>\n",
       "    <tr>\n",
       "      <th>1</th>\n",
       "      <td>1.0</td>\n",
       "      <td>1.0</td>\n",
       "      <td>1.0</td>\n",
       "      <td>1.0</td>\n",
       "      <td>0.0</td>\n",
       "      <td>1.0</td>\n",
       "      <td>0.0</td>\n",
       "      <td>0.0</td>\n",
       "      <td>1.0</td>\n",
       "      <td>0.0</td>\n",
       "      <td>...</td>\n",
       "      <td>0.0</td>\n",
       "      <td>0.0</td>\n",
       "      <td>0.0</td>\n",
       "      <td>0.0</td>\n",
       "      <td>0.0</td>\n",
       "      <td>0.0</td>\n",
       "      <td>0.0</td>\n",
       "      <td>0.0</td>\n",
       "      <td>0.0</td>\n",
       "      <td>0.0</td>\n",
       "    </tr>\n",
       "    <tr>\n",
       "      <th>2</th>\n",
       "      <td>1.0</td>\n",
       "      <td>1.0</td>\n",
       "      <td>1.0</td>\n",
       "      <td>1.0</td>\n",
       "      <td>1.0</td>\n",
       "      <td>0.0</td>\n",
       "      <td>1.0</td>\n",
       "      <td>1.0</td>\n",
       "      <td>1.0</td>\n",
       "      <td>1.0</td>\n",
       "      <td>...</td>\n",
       "      <td>0.0</td>\n",
       "      <td>0.0</td>\n",
       "      <td>0.0</td>\n",
       "      <td>0.0</td>\n",
       "      <td>0.0</td>\n",
       "      <td>0.0</td>\n",
       "      <td>0.0</td>\n",
       "      <td>0.0</td>\n",
       "      <td>0.0</td>\n",
       "      <td>0.0</td>\n",
       "    </tr>\n",
       "    <tr>\n",
       "      <th>3</th>\n",
       "      <td>1.0</td>\n",
       "      <td>1.0</td>\n",
       "      <td>1.0</td>\n",
       "      <td>1.0</td>\n",
       "      <td>0.0</td>\n",
       "      <td>1.0</td>\n",
       "      <td>1.0</td>\n",
       "      <td>0.0</td>\n",
       "      <td>0.0</td>\n",
       "      <td>1.0</td>\n",
       "      <td>...</td>\n",
       "      <td>0.0</td>\n",
       "      <td>0.0</td>\n",
       "      <td>0.0</td>\n",
       "      <td>0.0</td>\n",
       "      <td>0.0</td>\n",
       "      <td>0.0</td>\n",
       "      <td>0.0</td>\n",
       "      <td>0.0</td>\n",
       "      <td>0.0</td>\n",
       "      <td>0.0</td>\n",
       "    </tr>\n",
       "    <tr>\n",
       "      <th>4</th>\n",
       "      <td>1.0</td>\n",
       "      <td>0.0</td>\n",
       "      <td>1.0</td>\n",
       "      <td>1.0</td>\n",
       "      <td>1.0</td>\n",
       "      <td>0.0</td>\n",
       "      <td>1.0</td>\n",
       "      <td>1.0</td>\n",
       "      <td>1.0</td>\n",
       "      <td>1.0</td>\n",
       "      <td>...</td>\n",
       "      <td>0.0</td>\n",
       "      <td>0.0</td>\n",
       "      <td>0.0</td>\n",
       "      <td>0.0</td>\n",
       "      <td>0.0</td>\n",
       "      <td>0.0</td>\n",
       "      <td>0.0</td>\n",
       "      <td>0.0</td>\n",
       "      <td>0.0</td>\n",
       "      <td>0.0</td>\n",
       "    </tr>\n",
       "  </tbody>\n",
       "</table>\n",
       "<p>5 rows × 1500 columns</p>\n",
       "</div>"
      ],
      "text/plain": [
       "   GO:0005575  GO:0008150  GO:0110165  GO:0003674  GO:0005622  GO:0009987  \\\n",
       "0         0.0         1.0         0.0         1.0         0.0         1.0   \n",
       "1         1.0         1.0         1.0         1.0         0.0         1.0   \n",
       "2         1.0         1.0         1.0         1.0         1.0         0.0   \n",
       "3         1.0         1.0         1.0         1.0         0.0         1.0   \n",
       "4         1.0         0.0         1.0         1.0         1.0         0.0   \n",
       "\n",
       "   GO:0043226  GO:0043229  GO:0005488  GO:0043227  ...  GO:0034250  \\\n",
       "0         0.0         0.0         1.0         0.0  ...         0.0   \n",
       "1         0.0         0.0         1.0         0.0  ...         0.0   \n",
       "2         1.0         1.0         1.0         1.0  ...         0.0   \n",
       "3         1.0         0.0         0.0         1.0  ...         0.0   \n",
       "4         1.0         1.0         1.0         1.0  ...         0.0   \n",
       "\n",
       "   GO:0140053  GO:0031345  GO:0098802  GO:0045861  GO:0051783  GO:0031674  \\\n",
       "0         0.0         0.0         0.0         0.0         0.0         0.0   \n",
       "1         0.0         0.0         0.0         0.0         0.0         0.0   \n",
       "2         0.0         0.0         0.0         0.0         0.0         0.0   \n",
       "3         0.0         0.0         0.0         0.0         0.0         0.0   \n",
       "4         0.0         0.0         0.0         0.0         0.0         0.0   \n",
       "\n",
       "   GO:0001818  GO:0006874  GO:0016887  \n",
       "0         0.0         0.0         0.0  \n",
       "1         0.0         0.0         0.0  \n",
       "2         0.0         0.0         0.0  \n",
       "3         0.0         0.0         0.0  \n",
       "4         0.0         0.0         0.0  \n",
       "\n",
       "[5 rows x 1500 columns]"
      ]
     },
     "execution_count": 15,
     "metadata": {},
     "output_type": "execute_result"
    }
   ],
   "source": [
    "labels_df.head()"
   ]
  },
  {
   "cell_type": "markdown",
   "metadata": {
    "id": "Ena4_2z-V7rb",
    "papermill": {
     "duration": 0.010523,
     "end_time": "2023-05-09T08:38:52.052433",
     "exception": false,
     "start_time": "2023-05-09T08:38:52.041910",
     "status": "completed"
    },
    "tags": []
   },
   "source": [
    "# Training\n",
    "\n",
    "Next, we will use Tensorflow to train a Deep Neural Network with the protein embeddings."
   ]
  },
  {
   "cell_type": "code",
   "execution_count": 16,
   "metadata": {
    "colab": {
     "base_uri": "https://localhost:8080/"
    },
    "id": "dzgxpKUqV7rb",
    "outputId": "d2d612a0-32db-4fb3-e9b4-0494684154b2",
    "papermill": {
     "duration": 128.96621,
     "end_time": "2023-05-09T08:41:01.029422",
     "exception": false,
     "start_time": "2023-05-09T08:38:52.063212",
     "status": "completed"
    },
    "tags": []
   },
   "outputs": [
    {
     "name": "stderr",
     "output_type": "stream",
     "text": [
      "2023-09-17 01:40:57.541844: W tensorflow/stream_executor/platform/default/dso_loader.cc:64] Could not load dynamic library 'libcuda.so.1'; dlerror: libcuda.so.1: cannot open shared object file: No such file or directory; LD_LIBRARY_PATH: /opt/sw/spack/apps/linux-rhel8-x86_64_v2/gcc-10.3.0/openmpi-4.1.2-4a/lib:/opt/sw/spack/apps/linux-rhel8-x86_64_v2/gcc-10.3.0/python-3.9.9-jh/lib:/opt/sw/spack/apps/linux-rhel8-x86_64_v2/gcc-10.3.0/tcl-8.6.11-d4/lib:/opt/sw/spack/apps/linux-rhel8-x86_64_v2/gcc-10.3.0/sqlite-3.37.1-6s/lib:/opt/sw/spack/apps/linux-rhel8-x86_64_v2/gcc-10.3.0/zlib-1.2.11-2y/lib:/opt/sw/spack/apps/linux-rhel8-x86_64_v2/gcc-9.3.0/gcc-10.3.0-ya/lib64:/opt/sw/spack/apps/linux-rhel8-x86_64_v2/gcc-9.3.0/gcc-10.3.0-ya/lib\n",
      "2023-09-17 01:40:57.541872: W tensorflow/stream_executor/cuda/cuda_driver.cc:269] failed call to cuInit: UNKNOWN ERROR (303)\n",
      "2023-09-17 01:40:57.541896: I tensorflow/stream_executor/cuda/cuda_diagnostics.cc:156] kernel driver does not appear to be running on this host (amd001.orc.gmu.edu): /proc/driver/nvidia/version does not exist\n",
      "2023-09-17 01:40:57.552689: I tensorflow/core/platform/cpu_feature_guard.cc:151] This TensorFlow binary is optimized with oneAPI Deep Neural Network Library (oneDNN) to use the following CPU instructions in performance-critical operations:  AVX2 FMA\n",
      "To enable them in other operations, rebuild TensorFlow with the appropriate compiler flags.\n"
     ]
    },
    {
     "name": "stdout",
     "output_type": "stream",
     "text": [
      "Epoch 1/5\n",
      "28/28 [==============================] - 6s 193ms/step - loss: 0.1936 - binary_accuracy: 0.9425 - auc: 0.6881\n",
      "Epoch 2/5\n",
      "28/28 [==============================] - 5s 193ms/step - loss: 0.0780 - binary_accuracy: 0.9801 - auc: 0.8327\n",
      "Epoch 3/5\n",
      "28/28 [==============================] - 5s 195ms/step - loss: 0.0736 - binary_accuracy: 0.9803 - auc: 0.8612\n",
      "Epoch 4/5\n",
      "28/28 [==============================] - 5s 193ms/step - loss: 0.0699 - binary_accuracy: 0.9805 - auc: 0.8847\n",
      "Epoch 5/5\n",
      "28/28 [==============================] - 5s 193ms/step - loss: 0.0671 - binary_accuracy: 0.9807 - auc: 0.9011\n"
     ]
    }
   ],
   "source": [
    "INPUT_SHAPE = [train_df.shape[1]]\n",
    "BATCH_SIZE = 5120\n",
    "\n",
    "model = tf.keras.Sequential([\n",
    "    tf.keras.layers.BatchNormalization(input_shape=INPUT_SHAPE),\n",
    "    tf.keras.layers.Dense(units=512, activation='relu'),\n",
    "    tf.keras.layers.Dense(units=512, activation='relu'),\n",
    "    tf.keras.layers.Dense(units=512, activation='relu'),\n",
    "    tf.keras.layers.Dense(units=num_of_labels,activation='sigmoid')\n",
    "])\n",
    "\n",
    "\n",
    "# Compile model\n",
    "model.compile(\n",
    "    optimizer=tf.keras.optimizers.Adam(learning_rate=0.001),\n",
    "    loss='binary_crossentropy',\n",
    "    metrics=['binary_accuracy', tf.keras.metrics.AUC()],\n",
    ")\n",
    "\n",
    "history = model.fit(\n",
    "    train_df, labels_df,\n",
    "    batch_size=BATCH_SIZE,\n",
    "    epochs=5\n",
    ")"
   ]
  },
  {
   "cell_type": "markdown",
   "metadata": {
    "id": "9VBC1b6edvGK"
   },
   "source": [
    "# Summary"
   ]
  },
  {
   "cell_type": "code",
   "execution_count": 17,
   "metadata": {
    "colab": {
     "base_uri": "https://localhost:8080/"
    },
    "id": "2AO9W-R_W0FA",
    "outputId": "afd9f68c-e214-4218-bd20-45ba096421ce"
   },
   "outputs": [
    {
     "name": "stdout",
     "output_type": "stream",
     "text": [
      "Model: \"sequential\"\n",
      "_________________________________________________________________\n",
      " Layer (type)                Output Shape              Param #   \n",
      "=================================================================\n",
      " batch_normalization (BatchN  (None, 1024)             4096      \n",
      " ormalization)                                                   \n",
      "                                                                 \n",
      " dense (Dense)               (None, 512)               524800    \n",
      "                                                                 \n",
      " dense_1 (Dense)             (None, 512)               262656    \n",
      "                                                                 \n",
      " dense_2 (Dense)             (None, 512)               262656    \n",
      "                                                                 \n",
      " dense_3 (Dense)             (None, 1500)              769500    \n",
      "                                                                 \n",
      "=================================================================\n",
      "Total params: 1,823,708\n",
      "Trainable params: 1,821,660\n",
      "Non-trainable params: 2,048\n",
      "_________________________________________________________________\n"
     ]
    }
   ],
   "source": [
    "model.summary()"
   ]
  },
  {
   "cell_type": "markdown",
   "metadata": {
    "id": "cqOZX9P6V7rb",
    "papermill": {
     "duration": 0.019782,
     "end_time": "2023-05-09T08:41:01.069970",
     "exception": false,
     "start_time": "2023-05-09T08:41:01.050188",
     "status": "completed"
    },
    "tags": []
   },
   "source": [
    "# Plot the model's loss and accuracy for each epoch"
   ]
  },
  {
   "cell_type": "code",
   "execution_count": 18,
   "metadata": {
    "colab": {
     "base_uri": "https://localhost:8080/",
     "height": 904
    },
    "id": "lCWd_I7kV7rc",
    "outputId": "f61592dc-db22-4491-d01a-7bb26f3119e0",
    "papermill": {
     "duration": 0.647806,
     "end_time": "2023-05-09T08:41:01.737745",
     "exception": false,
     "start_time": "2023-05-09T08:41:01.089939",
     "status": "completed"
    },
    "tags": []
   },
   "outputs": [
    {
     "data": {
      "text/plain": [
       "<AxesSubplot:title={'center':'Accuracy'}>"
      ]
     },
     "execution_count": 18,
     "metadata": {},
     "output_type": "execute_result"
    },
    {
     "data": {
      "image/png": "[encoded data removed]",
      "text/plain": [
       "<Figure size 432x288 with 1 Axes>"
      ]
     },
     "metadata": {
      "needs_background": "light"
     },
     "output_type": "display_data"
    },
    {
     "data": {
      "image/png": "[encoded data removed]",
      "text/plain": [
       "<Figure size 432x288 with 1 Axes>"
      ]
     },
     "metadata": {
      "needs_background": "light"
     },
     "output_type": "display_data"
    }
   ],
   "source": [
    "history_df = pd.DataFrame(history.history)\n",
    "history_df.loc[:, ['loss']].plot(title=\"Cross-entropy\")\n",
    "history_df.loc[:, ['binary_accuracy']].plot(title=\"Accuracy\")"
   ]
  },
  {
   "cell_type": "markdown",
   "metadata": {
    "id": "8jvTUsbfV7rc",
    "papermill": {
     "duration": 0.021665,
     "end_time": "2023-05-09T08:41:01.780867",
     "exception": false,
     "start_time": "2023-05-09T08:41:01.759202",
     "status": "completed"
    },
    "tags": []
   },
   "source": [
    "# Output on test dataset"
   ]
  },
  {
   "cell_type": "markdown",
   "metadata": {
    "id": "e0yGdpdfV7rc",
    "papermill": {
     "duration": 0.02075,
     "end_time": "2023-05-09T08:41:01.822960",
     "exception": false,
     "start_time": "2023-05-09T08:41:01.802210",
     "status": "completed"
    },
    "tags": []
   },
   "source": [
    "For final output we will use the protein embeddings of the test data."
   ]
  },
  {
   "cell_type": "code",
   "execution_count": 19,
   "metadata": {
    "colab": {
     "base_uri": "https://localhost:8080/"
    },
    "id": "VsE6M_SkV7rc",
    "outputId": "d66e69f3-ec3f-4481-b7ca-71689cfbb1aa",
    "papermill": {
     "duration": 10.290827,
     "end_time": "2023-05-09T08:41:12.134919",
     "exception": false,
     "start_time": "2023-05-09T08:41:01.844092",
     "status": "completed"
    },
    "tags": []
   },
   "outputs": [
    {
     "name": "stdout",
     "output_type": "stream",
     "text": [
      "(141865, 1024)\n"
     ]
    }
   ],
   "source": [
    "test_embeddings = np.load('t5_embeds/test_embeds.npy')\n",
    "\n",
    "column_num = test_embeddings.shape[1]\n",
    "test_df = pd.DataFrame(test_embeddings, columns = [\"Column_\" + str(i) for i in range(1, column_num+1)])\n",
    "print(test_df.shape)"
   ]
  },
  {
   "cell_type": "code",
   "execution_count": 20,
   "metadata": {
    "colab": {
     "base_uri": "https://localhost:8080/",
     "height": 253
    },
    "id": "cTbOtPSaV7rc",
    "outputId": "d9564b66-fbb0-4df3-8870-d4e930d4929e",
    "papermill": {
     "duration": 0.050123,
     "end_time": "2023-05-09T08:41:12.248732",
     "exception": false,
     "start_time": "2023-05-09T08:41:12.198609",
     "status": "completed"
    },
    "tags": []
   },
   "outputs": [
    {
     "data": {
      "text/html": [
       "<div>\n",
       "<style scoped>\n",
       "    .dataframe tbody tr th:only-of-type {\n",
       "        vertical-align: middle;\n",
       "    }\n",
       "\n",
       "    .dataframe tbody tr th {\n",
       "        vertical-align: top;\n",
       "    }\n",
       "\n",
       "    .dataframe thead th {\n",
       "        text-align: right;\n",
       "    }\n",
       "</style>\n",
       "<table border=\"1\" class=\"dataframe\">\n",
       "  <thead>\n",
       "    <tr style=\"text-align: right;\">\n",
       "      <th></th>\n",
       "      <th>Column_1</th>\n",
       "      <th>Column_2</th>\n",
       "      <th>Column_3</th>\n",
       "      <th>Column_4</th>\n",
       "      <th>Column_5</th>\n",
       "      <th>Column_6</th>\n",
       "      <th>Column_7</th>\n",
       "      <th>Column_8</th>\n",
       "      <th>Column_9</th>\n",
       "      <th>Column_10</th>\n",
       "      <th>...</th>\n",
       "      <th>Column_1015</th>\n",
       "      <th>Column_1016</th>\n",
       "      <th>Column_1017</th>\n",
       "      <th>Column_1018</th>\n",
       "      <th>Column_1019</th>\n",
       "      <th>Column_1020</th>\n",
       "      <th>Column_1021</th>\n",
       "      <th>Column_1022</th>\n",
       "      <th>Column_1023</th>\n",
       "      <th>Column_1024</th>\n",
       "    </tr>\n",
       "  </thead>\n",
       "  <tbody>\n",
       "    <tr>\n",
       "      <th>0</th>\n",
       "      <td>0.054705</td>\n",
       "      <td>0.063420</td>\n",
       "      <td>-0.015320</td>\n",
       "      <td>-0.016506</td>\n",
       "      <td>0.042195</td>\n",
       "      <td>0.021592</td>\n",
       "      <td>-0.118535</td>\n",
       "      <td>-0.063298</td>\n",
       "      <td>-0.046146</td>\n",
       "      <td>-0.102311</td>\n",
       "      <td>...</td>\n",
       "      <td>-0.019581</td>\n",
       "      <td>-0.043712</td>\n",
       "      <td>-0.072322</td>\n",
       "      <td>0.002404</td>\n",
       "      <td>0.018459</td>\n",
       "      <td>-0.047278</td>\n",
       "      <td>0.012195</td>\n",
       "      <td>-0.043319</td>\n",
       "      <td>0.036009</td>\n",
       "      <td>0.063093</td>\n",
       "    </tr>\n",
       "    <tr>\n",
       "      <th>1</th>\n",
       "      <td>0.090373</td>\n",
       "      <td>0.089842</td>\n",
       "      <td>-0.023887</td>\n",
       "      <td>-0.011446</td>\n",
       "      <td>0.051465</td>\n",
       "      <td>0.020982</td>\n",
       "      <td>-0.110989</td>\n",
       "      <td>-0.066646</td>\n",
       "      <td>-0.041259</td>\n",
       "      <td>-0.087551</td>\n",
       "      <td>...</td>\n",
       "      <td>-0.024399</td>\n",
       "      <td>-0.041957</td>\n",
       "      <td>-0.066329</td>\n",
       "      <td>0.006856</td>\n",
       "      <td>0.028449</td>\n",
       "      <td>-0.053758</td>\n",
       "      <td>0.009699</td>\n",
       "      <td>-0.053350</td>\n",
       "      <td>0.019644</td>\n",
       "      <td>0.079630</td>\n",
       "    </tr>\n",
       "    <tr>\n",
       "      <th>2</th>\n",
       "      <td>0.043588</td>\n",
       "      <td>0.039572</td>\n",
       "      <td>-0.014332</td>\n",
       "      <td>-0.011769</td>\n",
       "      <td>0.045109</td>\n",
       "      <td>0.015847</td>\n",
       "      <td>-0.103339</td>\n",
       "      <td>-0.047735</td>\n",
       "      <td>-0.022730</td>\n",
       "      <td>-0.091452</td>\n",
       "      <td>...</td>\n",
       "      <td>-0.029648</td>\n",
       "      <td>-0.037944</td>\n",
       "      <td>-0.046043</td>\n",
       "      <td>0.003603</td>\n",
       "      <td>0.018028</td>\n",
       "      <td>-0.030746</td>\n",
       "      <td>0.003671</td>\n",
       "      <td>-0.044464</td>\n",
       "      <td>0.030974</td>\n",
       "      <td>0.040322</td>\n",
       "    </tr>\n",
       "    <tr>\n",
       "      <th>3</th>\n",
       "      <td>0.055668</td>\n",
       "      <td>0.049560</td>\n",
       "      <td>-0.019646</td>\n",
       "      <td>-0.006977</td>\n",
       "      <td>0.039897</td>\n",
       "      <td>0.021177</td>\n",
       "      <td>-0.108079</td>\n",
       "      <td>-0.047191</td>\n",
       "      <td>-0.031517</td>\n",
       "      <td>-0.100057</td>\n",
       "      <td>...</td>\n",
       "      <td>-0.023210</td>\n",
       "      <td>-0.041704</td>\n",
       "      <td>-0.048440</td>\n",
       "      <td>0.006088</td>\n",
       "      <td>0.020110</td>\n",
       "      <td>-0.046751</td>\n",
       "      <td>-0.006635</td>\n",
       "      <td>-0.041455</td>\n",
       "      <td>0.016683</td>\n",
       "      <td>0.057030</td>\n",
       "    </tr>\n",
       "    <tr>\n",
       "      <th>4</th>\n",
       "      <td>0.022637</td>\n",
       "      <td>0.014306</td>\n",
       "      <td>-0.002696</td>\n",
       "      <td>-0.034456</td>\n",
       "      <td>0.034854</td>\n",
       "      <td>0.020822</td>\n",
       "      <td>-0.114046</td>\n",
       "      <td>-0.050019</td>\n",
       "      <td>-0.026491</td>\n",
       "      <td>-0.097928</td>\n",
       "      <td>...</td>\n",
       "      <td>-0.019185</td>\n",
       "      <td>-0.032108</td>\n",
       "      <td>-0.051394</td>\n",
       "      <td>0.008448</td>\n",
       "      <td>0.015208</td>\n",
       "      <td>-0.037987</td>\n",
       "      <td>0.030977</td>\n",
       "      <td>-0.042407</td>\n",
       "      <td>0.041232</td>\n",
       "      <td>0.047161</td>\n",
       "    </tr>\n",
       "  </tbody>\n",
       "</table>\n",
       "<p>5 rows × 1024 columns</p>\n",
       "</div>"
      ],
      "text/plain": [
       "   Column_1  Column_2  Column_3  Column_4  Column_5  Column_6  Column_7  \\\n",
       "0  0.054705  0.063420 -0.015320 -0.016506  0.042195  0.021592 -0.118535   \n",
       "1  0.090373  0.089842 -0.023887 -0.011446  0.051465  0.020982 -0.110989   \n",
       "2  0.043588  0.039572 -0.014332 -0.011769  0.045109  0.015847 -0.103339   \n",
       "3  0.055668  0.049560 -0.019646 -0.006977  0.039897  0.021177 -0.108079   \n",
       "4  0.022637  0.014306 -0.002696 -0.034456  0.034854  0.020822 -0.114046   \n",
       "\n",
       "   Column_8  Column_9  Column_10  ...  Column_1015  Column_1016  Column_1017  \\\n",
       "0 -0.063298 -0.046146  -0.102311  ...    -0.019581    -0.043712    -0.072322   \n",
       "1 -0.066646 -0.041259  -0.087551  ...    -0.024399    -0.041957    -0.066329   \n",
       "2 -0.047735 -0.022730  -0.091452  ...    -0.029648    -0.037944    -0.046043   \n",
       "3 -0.047191 -0.031517  -0.100057  ...    -0.023210    -0.041704    -0.048440   \n",
       "4 -0.050019 -0.026491  -0.097928  ...    -0.019185    -0.032108    -0.051394   \n",
       "\n",
       "   Column_1018  Column_1019  Column_1020  Column_1021  Column_1022  \\\n",
       "0     0.002404     0.018459    -0.047278     0.012195    -0.043319   \n",
       "1     0.006856     0.028449    -0.053758     0.009699    -0.053350   \n",
       "2     0.003603     0.018028    -0.030746     0.003671    -0.044464   \n",
       "3     0.006088     0.020110    -0.046751    -0.006635    -0.041455   \n",
       "4     0.008448     0.015208    -0.037987     0.030977    -0.042407   \n",
       "\n",
       "   Column_1023  Column_1024  \n",
       "0     0.036009     0.063093  \n",
       "1     0.019644     0.079630  \n",
       "2     0.030974     0.040322  \n",
       "3     0.016683     0.057030  \n",
       "4     0.041232     0.047161  \n",
       "\n",
       "[5 rows x 1024 columns]"
      ]
     },
     "execution_count": 20,
     "metadata": {},
     "output_type": "execute_result"
    }
   ],
   "source": [
    "test_df.head()"
   ]
  },
  {
   "cell_type": "markdown",
   "metadata": {
    "id": "4mlDIYHiV7rc"
   },
   "source": [
    "We will now use the model to make predictions on the test embeddings."
   ]
  },
  {
   "cell_type": "code",
   "execution_count": 21,
   "metadata": {
    "colab": {
     "base_uri": "https://localhost:8080/"
    },
    "id": "YH2mixGIV7rc",
    "outputId": "18d8b23d-0ddb-4d89-f904-1209e46e5b6d",
    "papermill": {
     "duration": 663.907351,
     "end_time": "2023-05-09T08:52:16.178461",
     "exception": false,
     "start_time": "2023-05-09T08:41:12.271110",
     "status": "completed"
    },
    "tags": []
   },
   "outputs": [],
   "source": [
    "predictions =  model.predict(test_df)"
   ]
  },
  {
   "cell_type": "markdown",
   "metadata": {
    "id": "D4XnB9KDV7rc"
   },
   "source": [
    "From the predictions we will create the final output data frame.\n",
    "\n",
    "**Note**: This will take atleast **15 to 20** minutes to finish."
   ]
  },
  {
   "cell_type": "code",
   "execution_count": 22,
   "metadata": {
    "colab": {
     "base_uri": "https://localhost:8080/",
     "height": 242
    },
    "id": "wzjVLeaKV7rc",
    "outputId": "54d51c70-5761-49b7-901a-5ca5ef490681"
   },
   "outputs": [],
   "source": [
    "df_final = pd.DataFrame(columns = ['Protein Id', 'GO Term Id','Prediction'])\n",
    "test_protein_ids = np.load('t5_embeds/test_ids.npy')\n",
    "l = []\n",
    "for k in list(test_protein_ids):\n",
    "    l += [ k] * predictions.shape[1]\n",
    "\n",
    "df_final['Protein Id'] = l\n",
    "df_final['GO Term Id'] = labels * predictions.shape[0]\n",
    "df_final['Prediction'] = predictions.ravel()\n",
    "df_final.to_csv(\"final_output.tsv\",header=False, index=False, sep=\"\\t\")"
   ]
  },
  {
   "cell_type": "code",
   "execution_count": 23,
   "metadata": {
    "id": "sLJ_x2pcV7rc",
    "papermill": {
     "duration": 0.063739,
     "end_time": "2023-05-09T08:52:16.292974",
     "exception": false,
     "start_time": "2023-05-09T08:52:16.229235",
     "status": "completed"
    },
    "tags": []
   },
   "outputs": [
    {
     "data": {
      "text/html": [
       "<div>\n",
       "<style scoped>\n",
       "    .dataframe tbody tr th:only-of-type {\n",
       "        vertical-align: middle;\n",
       "    }\n",
       "\n",
       "    .dataframe tbody tr th {\n",
       "        vertical-align: top;\n",
       "    }\n",
       "\n",
       "    .dataframe thead th {\n",
       "        text-align: right;\n",
       "    }\n",
       "</style>\n",
       "<table border=\"1\" class=\"dataframe\">\n",
       "  <thead>\n",
       "    <tr style=\"text-align: right;\">\n",
       "      <th></th>\n",
       "      <th>Protein Id</th>\n",
       "      <th>GO Term Id</th>\n",
       "      <th>Prediction</th>\n",
       "    </tr>\n",
       "  </thead>\n",
       "  <tbody>\n",
       "    <tr>\n",
       "      <th>0</th>\n",
       "      <td>Q9CQV8</td>\n",
       "      <td>GO:0005575</td>\n",
       "      <td>0.530618</td>\n",
       "    </tr>\n",
       "    <tr>\n",
       "      <th>1</th>\n",
       "      <td>Q9CQV8</td>\n",
       "      <td>GO:0008150</td>\n",
       "      <td>0.524857</td>\n",
       "    </tr>\n",
       "    <tr>\n",
       "      <th>2</th>\n",
       "      <td>Q9CQV8</td>\n",
       "      <td>GO:0110165</td>\n",
       "      <td>0.528991</td>\n",
       "    </tr>\n",
       "    <tr>\n",
       "      <th>3</th>\n",
       "      <td>Q9CQV8</td>\n",
       "      <td>GO:0003674</td>\n",
       "      <td>0.528299</td>\n",
       "    </tr>\n",
       "    <tr>\n",
       "      <th>4</th>\n",
       "      <td>Q9CQV8</td>\n",
       "      <td>GO:0005622</td>\n",
       "      <td>0.517286</td>\n",
       "    </tr>\n",
       "    <tr>\n",
       "      <th>...</th>\n",
       "      <td>...</td>\n",
       "      <td>...</td>\n",
       "      <td>...</td>\n",
       "    </tr>\n",
       "    <tr>\n",
       "      <th>212797495</th>\n",
       "      <td>A0A3G2FQK2</td>\n",
       "      <td>GO:0051783</td>\n",
       "      <td>0.282292</td>\n",
       "    </tr>\n",
       "    <tr>\n",
       "      <th>212797496</th>\n",
       "      <td>A0A3G2FQK2</td>\n",
       "      <td>GO:0031674</td>\n",
       "      <td>0.301330</td>\n",
       "    </tr>\n",
       "    <tr>\n",
       "      <th>212797497</th>\n",
       "      <td>A0A3G2FQK2</td>\n",
       "      <td>GO:0001818</td>\n",
       "      <td>0.338075</td>\n",
       "    </tr>\n",
       "    <tr>\n",
       "      <th>212797498</th>\n",
       "      <td>A0A3G2FQK2</td>\n",
       "      <td>GO:0006874</td>\n",
       "      <td>0.311140</td>\n",
       "    </tr>\n",
       "    <tr>\n",
       "      <th>212797499</th>\n",
       "      <td>A0A3G2FQK2</td>\n",
       "      <td>GO:0016887</td>\n",
       "      <td>0.267606</td>\n",
       "    </tr>\n",
       "  </tbody>\n",
       "</table>\n",
       "<p>212797500 rows × 3 columns</p>\n",
       "</div>"
      ],
      "text/plain": [
       "           Protein Id  GO Term Id  Prediction\n",
       "0              Q9CQV8  GO:0005575    0.530618\n",
       "1              Q9CQV8  GO:0008150    0.524857\n",
       "2              Q9CQV8  GO:0110165    0.528991\n",
       "3              Q9CQV8  GO:0003674    0.528299\n",
       "4              Q9CQV8  GO:0005622    0.517286\n",
       "...               ...         ...         ...\n",
       "212797495  A0A3G2FQK2  GO:0051783    0.282292\n",
       "212797496  A0A3G2FQK2  GO:0031674    0.301330\n",
       "212797497  A0A3G2FQK2  GO:0001818    0.338075\n",
       "212797498  A0A3G2FQK2  GO:0006874    0.311140\n",
       "212797499  A0A3G2FQK2  GO:0016887    0.267606\n",
       "\n",
       "[212797500 rows x 3 columns]"
      ]
     },
     "execution_count": 23,
     "metadata": {},
     "output_type": "execute_result"
    }
   ],
   "source": [
    "df_final"
   ]
  },
  {
   "cell_type": "markdown",
   "metadata": {
    "id": "Jhpja0OAdHsa"
   },
   "source": [
    "Reference: https://www.kaggle.com/code/alexandervc/baseline-multilabel-to-multitarget-binary"
   ]
  }
 ],
 "metadata": {
  "colab": {
   "provenance": []
  },
  "kernelspec": {
   "display_name": "Python 3 (ipykernel)",
   "language": "python",
   "name": "python3"
  },
  "language_info": {
   "codemirror_mode": {
    "name": "ipython",
    "version": 3
   },
   "file_extension": ".py",
   "mimetype": "text/x-python",
   "name": "python",
   "nbconvert_exporter": "python",
   "pygments_lexer": "ipython3",
   "version": "3.9.9"
  }
 },
 "nbformat": 4,
 "nbformat_minor": 4
}
